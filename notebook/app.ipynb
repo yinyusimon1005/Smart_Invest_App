{
 "cells": [
  {
   "cell_type": "code",
   "execution_count": 2,
   "id": "3cc78212",
   "metadata": {},
   "outputs": [
    {
     "name": "stderr",
     "output_type": "stream",
     "text": [
      "2025-06-09 23:12:07.294 WARNING streamlit.runtime.scriptrunner_utils.script_run_context: Thread 'MainThread': missing ScriptRunContext! This warning can be ignored when running in bare mode.\n",
      "2025-06-09 23:12:07.294 WARNING streamlit.runtime.scriptrunner_utils.script_run_context: Thread 'MainThread': missing ScriptRunContext! This warning can be ignored when running in bare mode.\n",
      "2025-06-09 23:12:07.362 \n",
      "  \u001b[33m\u001b[1mWarning:\u001b[0m to view this Streamlit app on a browser, run it with the following\n",
      "  command:\n",
      "\n",
      "    streamlit run c:\\yinyusimon_Surface_Pro_8\\Programming\\Anaconda\\envs\\py311\\Lib\\site-packages\\ipykernel_launcher.py [ARGUMENTS]\n",
      "2025-06-09 23:12:07.362 Thread 'MainThread': missing ScriptRunContext! This warning can be ignored when running in bare mode.\n",
      "2025-06-09 23:12:07.362 Thread 'MainThread': missing ScriptRunContext! This warning can be ignored when running in bare mode.\n",
      "2025-06-09 23:12:07.362 Thread 'MainThread': missing ScriptRunContext! This warning can be ignored when running in bare mode.\n",
      "2025-06-09 23:12:07.362 Thread 'MainThread': missing ScriptRunContext! This warning can be ignored when running in bare mode.\n",
      "2025-06-09 23:12:07.376 Thread 'MainThread': missing ScriptRunContext! This warning can be ignored when running in bare mode.\n",
      "2025-06-09 23:12:07.377 Thread 'MainThread': missing ScriptRunContext! This warning can be ignored when running in bare mode.\n",
      "2025-06-09 23:12:07.377 Thread 'MainThread': missing ScriptRunContext! This warning can be ignored when running in bare mode.\n",
      "2025-06-09 23:12:07.377 Thread 'MainThread': missing ScriptRunContext! This warning can be ignored when running in bare mode.\n",
      "2025-06-09 23:12:07.377 Thread 'MainThread': missing ScriptRunContext! This warning can be ignored when running in bare mode.\n",
      "2025-06-09 23:12:07.377 Session state does not function when running a script without `streamlit run`\n",
      "2025-06-09 23:12:07.384 Thread 'MainThread': missing ScriptRunContext! This warning can be ignored when running in bare mode.\n",
      "2025-06-09 23:12:07.384 Thread 'MainThread': missing ScriptRunContext! This warning can be ignored when running in bare mode.\n",
      "2025-06-09 23:12:07.384 Thread 'MainThread': missing ScriptRunContext! This warning can be ignored when running in bare mode.\n",
      "2025-06-09 23:12:07.384 Thread 'MainThread': missing ScriptRunContext! This warning can be ignored when running in bare mode.\n",
      "2025-06-09 23:12:07.384 Thread 'MainThread': missing ScriptRunContext! This warning can be ignored when running in bare mode.\n",
      "2025-06-09 23:12:07.384 Thread 'MainThread': missing ScriptRunContext! This warning can be ignored when running in bare mode.\n",
      "2025-06-09 23:12:07.392 Thread 'MainThread': missing ScriptRunContext! This warning can be ignored when running in bare mode.\n",
      "2025-06-09 23:12:07.393 Thread 'MainThread': missing ScriptRunContext! This warning can be ignored when running in bare mode.\n",
      "2025-06-09 23:12:07.393 Thread 'MainThread': missing ScriptRunContext! This warning can be ignored when running in bare mode.\n",
      "2025-06-09 23:12:07.393 Thread 'MainThread': missing ScriptRunContext! This warning can be ignored when running in bare mode.\n",
      "2025-06-09 23:12:07.393 Thread 'MainThread': missing ScriptRunContext! This warning can be ignored when running in bare mode.\n",
      "2025-06-09 23:12:07.393 Thread 'MainThread': missing ScriptRunContext! This warning can be ignored when running in bare mode.\n",
      "2025-06-09 23:12:07.393 Thread 'MainThread': missing ScriptRunContext! This warning can be ignored when running in bare mode.\n",
      "2025-06-09 23:12:07.399 Thread 'MainThread': missing ScriptRunContext! This warning can be ignored when running in bare mode.\n",
      "2025-06-09 23:12:07.399 Thread 'MainThread': missing ScriptRunContext! This warning can be ignored when running in bare mode.\n",
      "2025-06-09 23:12:07.399 Thread 'MainThread': missing ScriptRunContext! This warning can be ignored when running in bare mode.\n",
      "2025-06-09 23:12:07.399 Thread 'MainThread': missing ScriptRunContext! This warning can be ignored when running in bare mode.\n",
      "2025-06-09 23:12:07.399 Thread 'MainThread': missing ScriptRunContext! This warning can be ignored when running in bare mode.\n",
      "2025-06-09 23:12:07.399 Thread 'MainThread': missing ScriptRunContext! This warning can be ignored when running in bare mode.\n",
      "2025-06-09 23:12:07.399 Thread 'MainThread': missing ScriptRunContext! This warning can be ignored when running in bare mode.\n",
      "2025-06-09 23:12:07.407 Thread 'MainThread': missing ScriptRunContext! This warning can be ignored when running in bare mode.\n",
      "2025-06-09 23:12:07.407 Thread 'MainThread': missing ScriptRunContext! This warning can be ignored when running in bare mode.\n",
      "2025-06-09 23:12:07.407 Thread 'MainThread': missing ScriptRunContext! This warning can be ignored when running in bare mode.\n",
      "2025-06-09 23:12:07.410 Thread 'MainThread': missing ScriptRunContext! This warning can be ignored when running in bare mode.\n",
      "2025-06-09 23:12:07.410 Thread 'MainThread': missing ScriptRunContext! This warning can be ignored when running in bare mode.\n",
      "2025-06-09 23:12:07.410 Thread 'MainThread': missing ScriptRunContext! This warning can be ignored when running in bare mode.\n",
      "2025-06-09 23:12:07.410 Thread 'MainThread': missing ScriptRunContext! This warning can be ignored when running in bare mode.\n",
      "2025-06-09 23:12:07.416 Thread 'MainThread': missing ScriptRunContext! This warning can be ignored when running in bare mode.\n",
      "2025-06-09 23:12:07.416 Thread 'MainThread': missing ScriptRunContext! This warning can be ignored when running in bare mode.\n",
      "2025-06-09 23:12:07.416 Thread 'MainThread': missing ScriptRunContext! This warning can be ignored when running in bare mode.\n"
     ]
    }
   ],
   "source": [
    "import streamlit as st\n",
    "from logic import recommend_account, recommend_allocation, generate_tips\n",
    "\n",
    "st.set_page_config(page_title=\"SmartNest\", layout=\"centered\")\n",
    "st.title(\"🏡 SmartNest 加拿大理财推荐\")\n",
    "\n",
    "st.markdown(\"为你量身打造的 TFSA / RRSP / 配置建议 —— 简单 3 分钟\")\n",
    "\n",
    "# --- 表单输入 ---\n",
    "with st.form(\"user_profile\"):\n",
    "    age = st.selectbox(\"你的年龄\", [\"<25\", \"25-34\", \"35-44\", \"45-54\", \"55+\"])\n",
    "    income = st.selectbox(\"你的年收入（税前）\", [\"<$40,000\", \"$40,000-$70,000\", \"$70,000-$100,000\", \"$100,000+\"])\n",
    "    risk = st.radio(\"你更看重什么？\", [\"稳定保本\", \"稍微波动但增长快\", \"我能承受亏损，追求高增长\"])\n",
    "    accounts = st.multiselect(\"你目前拥有的账户\", [\"TFSA\", \"RRSP\", \"RESP\", \"非注册账户\", \"没有/不知道\"])\n",
    "    goal = st.selectbox(\"你的未来主要目标是\", [\"买房\", \"教育/子女基金\", \"提前退休\", \"一般储蓄/增长\"])\n",
    "    submitted = st.form_submit_button(\"🔍 获取建议\")\n",
    "\n",
    "# --- 输出部分 ---\n",
    "if submitted:\n",
    "    st.subheader(\"📊 你的个性化理财建议\")\n",
    "\n",
    "    st.markdown(\"### 💼 推荐账户使用顺序\")\n",
    "    st.info(recommend_account(income, accounts))\n",
    "\n",
    "    st.markdown(\"### 📈 资产配置建议\")\n",
    "    st.success(recommend_allocation(age, risk))\n",
    "\n",
    "    st.markdown(\"### 💡 理财小贴士\")\n",
    "    st.write(generate_tips(goal, accounts))\n"
   ]
  },
  {
   "cell_type": "code",
   "execution_count": null,
   "id": "187f212b",
   "metadata": {},
   "outputs": [],
   "source": []
  }
 ],
 "metadata": {
  "kernelspec": {
   "display_name": "py311",
   "language": "python",
   "name": "python3"
  },
  "language_info": {
   "codemirror_mode": {
    "name": "ipython",
    "version": 3
   },
   "file_extension": ".py",
   "mimetype": "text/x-python",
   "name": "python",
   "nbconvert_exporter": "python",
   "pygments_lexer": "ipython3",
   "version": "3.11.7"
  }
 },
 "nbformat": 4,
 "nbformat_minor": 5
}
