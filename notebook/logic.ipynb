{
 "cells": [
  {
   "cell_type": "code",
   "execution_count": 1,
   "id": "0276b807",
   "metadata": {},
   "outputs": [],
   "source": [
    "def recommend_account(income, accounts):\n",
    "    if \"TFSA\" not in accounts:\n",
    "        return \"建议优先开设并使用 TFSA（免税增长，无影响福利）\"\n",
    "\n",
    "    if income == \"$100,000+\" and \"RRSP\" not in accounts:\n",
    "        return \"你年收入较高，建议使用 RRSP 来抵税和储蓄\"\n",
    "\n",
    "    return \"你已经使用了合适的账户，可进一步优化配置\"\n",
    "\n",
    "def recommend_allocation(age, risk):\n",
    "    if age in [\"<25\", \"25-34\"]:\n",
    "        if risk == \"稳定保本\":\n",
    "            return \"50% 股票 / 40% 债券 / 10% 现金\"\n",
    "        elif risk == \"稍微波动但增长快\":\n",
    "            return \"70% 股票 / 25% 债券 / 5% 现金\"\n",
    "        else:\n",
    "            return \"85% 股票 / 15% 债券\"\n",
    "\n",
    "    elif age in [\"35-44\", \"45-54\"]:\n",
    "        if risk == \"稳定保本\":\n",
    "            return \"40% 股票 / 50% 债券 / 10% 现金\"\n",
    "        elif risk == \"稍微波动但增长快\":\n",
    "            return \"60% 股票 / 35% 债券 / 5% 现金\"\n",
    "        else:\n",
    "            return \"75% 股票 / 25% 债券\"\n",
    "\n",
    "    else:\n",
    "        return \"30% 股票 / 60% 债券 / 10% 现金\"\n",
    "\n",
    "def generate_tips(goal, accounts):\n",
    "    tips = \"\"\n",
    "    if goal == \"买房\":\n",
    "        tips += \"👉 可考虑开通 FHSA 账户用于首付，配合 TFSA 一起使用\\n\"\n",
    "    if goal == \"教育/子女基金\":\n",
    "        tips += \"🎓 RESP 可获取政府配对金，强烈建议使用\\n\"\n",
    "    if \"没有/不知道\" in accounts:\n",
    "        tips += \"📌 建议了解 TFSA / RRSP 的基本规则，错过有额度损失风险\\n\"\n",
    "    return tips or \"你目前做得不错，可以定期检查投资目标是否有变化\"\n"
   ]
  },
  {
   "cell_type": "code",
   "execution_count": null,
   "id": "23dad8bc",
   "metadata": {},
   "outputs": [],
   "source": []
  }
 ],
 "metadata": {
  "kernelspec": {
   "display_name": "py311",
   "language": "python",
   "name": "python3"
  },
  "language_info": {
   "codemirror_mode": {
    "name": "ipython",
    "version": 3
   },
   "file_extension": ".py",
   "mimetype": "text/x-python",
   "name": "python",
   "nbconvert_exporter": "python",
   "pygments_lexer": "ipython3",
   "version": "3.11.7"
  }
 },
 "nbformat": 4,
 "nbformat_minor": 5
}
